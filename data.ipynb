{
 "cells": [
  {
   "cell_type": "code",
   "execution_count": null,
   "id": "dc0bf705",
   "metadata": {},
   "outputs": [],
   "source": [
    "# importing numpy and pandas\n",
    "import numpy as np\n",
    "import pandas as pd\n",
    "import sklearn as sk"
   ]
  },
  {
   "cell_type": "code",
   "execution_count": null,
   "id": "bf3dc7ff",
   "metadata": {},
   "outputs": [],
   "source": [
    "# reading both csv's data and saving in a variables named movie and credit\n",
    "movies = pd.read_csv('tmdb_5000_movies.csv')\n",
    "credit = pd.read_csv('tmdb_5000_credits.csv')"
   ]
  },
  {
   "cell_type": "code",
   "execution_count": null,
   "id": "e8f0fa03",
   "metadata": {},
   "outputs": [],
   "source": [
    "# printing top 5 rows of movie csv\n",
    "movies.head()"
   ]
  },
  {
   "cell_type": "code",
   "execution_count": null,
   "id": "a2575eb8",
   "metadata": {},
   "outputs": [],
   "source": [
    "# printing top 5 rows of credit \n",
    "credit.head()"
   ]
  },
  {
   "cell_type": "code",
   "execution_count": null,
   "id": "e97709df",
   "metadata": {},
   "outputs": [],
   "source": [
    "# merging both db based on title\n",
    "movies = movies.merge(credit, on='title')"
   ]
  },
  {
   "cell_type": "code",
   "execution_count": null,
   "id": "a871d6aa",
   "metadata": {},
   "outputs": [],
   "source": [
    "type(movies)\n"
   ]
  },
  {
   "cell_type": "code",
   "execution_count": null,
   "id": "faf3b9bd",
   "metadata": {},
   "outputs": [],
   "source": [
    "print(movies.columns)\n"
   ]
  },
  {
   "cell_type": "code",
   "execution_count": null,
   "id": "33328c93",
   "metadata": {},
   "outputs": [],
   "source": [
    "movies = movies[['genres', 'title', 'overview', 'keywords', 'crew', 'cast', 'movie_id']]"
   ]
  },
  {
   "cell_type": "code",
   "execution_count": null,
   "id": "1e03ce53",
   "metadata": {},
   "outputs": [],
   "source": [
    "#check missing data\n",
    "\n",
    "movies.isnull().sum()"
   ]
  },
  {
   "cell_type": "code",
   "execution_count": null,
   "id": "aa456303",
   "metadata": {},
   "outputs": [],
   "source": [
    "movies.dropna(inplace=True)"
   ]
  },
  {
   "cell_type": "code",
   "execution_count": null,
   "id": "334ae15d",
   "metadata": {},
   "outputs": [],
   "source": [
    "# check duplicate data\n",
    "movies.duplicated().sum()"
   ]
  },
  {
   "cell_type": "code",
   "execution_count": null,
   "id": "212965b5",
   "metadata": {},
   "outputs": [],
   "source": [
    "print(type(movies['genres'].iloc[0]))\n",
    "print(movies['genres'].iloc[0])\n"
   ]
  },
  {
   "cell_type": "code",
   "execution_count": null,
   "id": "3dc25af4",
   "metadata": {},
   "outputs": [],
   "source": [
    "# data cleaning of genres\n",
    "movies.iloc[0].genres"
   ]
  },
  {
   "cell_type": "code",
   "execution_count": null,
   "id": "27bf0544",
   "metadata": {},
   "outputs": [],
   "source": [
    "# this is helper function to clean genre column and get only genre name \n",
    "# ast.literal_eval is used for changing string indices in integer\n",
    "import ast\n",
    "\n",
    "def convert(obj):\n",
    "    if isinstance(obj, str):\n",
    "        try:\n",
    "            data = ast.literal_eval(obj)\n",
    "            return [d['name'] for d in data]  # extract \"name\" field\n",
    "        except:\n",
    "            return []\n",
    "    elif isinstance(obj, list):\n",
    "        return [d['name'] if isinstance(d, dict) else d for d in obj]\n",
    "    else:\n",
    "        return []\n",
    "  "
   ]
  },
  {
   "cell_type": "code",
   "execution_count": null,
   "id": "0d9f6be2",
   "metadata": {},
   "outputs": [],
   "source": [
    "movies['genres'] = movies['genres'].apply(convert)"
   ]
  },
  {
   "cell_type": "code",
   "execution_count": null,
   "id": "aa48e495",
   "metadata": {},
   "outputs": [],
   "source": [
    "movies['keywords'] = movies['keywords'].apply(convert)"
   ]
  },
  {
   "cell_type": "code",
   "execution_count": null,
   "id": "5f5d74ad",
   "metadata": {},
   "outputs": [],
   "source": [
    "# helper function fot top 3 cast\n",
    "\n",
    "def convert_cast(obj):\n",
    "    if isinstance(obj, str):\n",
    "        try:\n",
    "            data = ast.literal_eval(obj)\n",
    "            return [d['name'] for d in data[:3]] \n",
    "        except:\n",
    "            return []\n",
    "    elif isinstance(obj, list):\n",
    "        return [d['name'] if isinstance(d, dict) else d for d in obj[:3]]\n",
    "    else:\n",
    "        return []\n",
    "  \n"
   ]
  },
  {
   "cell_type": "code",
   "execution_count": null,
   "id": "727186f1",
   "metadata": {},
   "outputs": [],
   "source": [
    "movies['cast'] = movies['cast'].apply(convert_cast)"
   ]
  },
  {
   "cell_type": "code",
   "execution_count": null,
   "id": "f65a6cd1",
   "metadata": {},
   "outputs": [],
   "source": [
    "# helper function to extractt director name from crew\n",
    "\n",
    "def director(obj):\n",
    "    try:\n",
    "        data = ast.literal_eval(obj) if isinstance(obj, str) else obj\n",
    "        for d in data:\n",
    "            if d.get('job') == 'Director':\n",
    "                return d['name']\n",
    "        return None\n",
    "    except Exception as e:\n",
    "        return None\n",
    "\n",
    "\n"
   ]
  },
  {
   "cell_type": "code",
   "execution_count": null,
   "id": "ec16c7d4",
   "metadata": {},
   "outputs": [],
   "source": [
    "movies['crew'] = movies['crew'].apply(director)"
   ]
  },
  {
   "cell_type": "code",
   "execution_count": null,
   "id": "d870bfd1",
   "metadata": {},
   "outputs": [],
   "source": [
    "# change overview colunm from string to list\n",
    "movies['overview'] = movies['overview'].apply(lambda x:x.split())"
   ]
  },
  {
   "cell_type": "code",
   "execution_count": null,
   "id": "8f09bdcb",
   "metadata": {},
   "outputs": [],
   "source": [
    "#removing spaces\n",
    "movies['genres'] = movies['genres'].apply(lambda x:[i.replace(\" \",\"\") for i in x])\n",
    "movies['keywords'] = movies['keywords'].apply(lambda x:[i.replace(\" \",\"\") for i in x])\n",
    "movies['cast'] = movies['cast'].apply(lambda x:[i.replace(\" \",\"\") for i in x])\n",
    "# movies['crew'] = movies['crew'].apply(lambda x: [\"\".join(x).replace(\" \", \"\")])\n",
    "movies['crew'] = movies['crew'].apply(\n",
    "    lambda x: x.replace(\" \", \"\") if isinstance(x, str) else \"\"\n",
    ")\n",
    "\n"
   ]
  },
  {
   "cell_type": "code",
   "execution_count": null,
   "id": "bbf74378",
   "metadata": {},
   "outputs": [],
   "source": [
    "movies['tags'] = movies['overview'] + movies['genres'] + movies['cast'] + movies['crew'] "
   ]
  },
  {
   "cell_type": "code",
   "execution_count": null,
   "id": "4af8a618",
   "metadata": {},
   "outputs": [],
   "source": [
    "new_df = movies[['title', 'tags', 'movie_id']]"
   ]
  },
  {
   "cell_type": "code",
   "execution_count": null,
   "id": "41cbcf31",
   "metadata": {},
   "outputs": [],
   "source": [
    "new_df['tags'] = new_df['tags'].apply(lambda x:\" \".join(x))"
   ]
  },
  {
   "cell_type": "code",
   "execution_count": null,
   "id": "c341a8a2",
   "metadata": {},
   "outputs": [],
   "source": [
    "new_df['tags'][2]"
   ]
  },
  {
   "cell_type": "code",
   "execution_count": null,
   "id": "c6ac9c0d",
   "metadata": {},
   "outputs": [],
   "source": [
    "new_df['tags'] = new_df['tags'].apply(lambda x:x.lower())"
   ]
  },
  {
   "cell_type": "code",
   "execution_count": null,
   "id": "c40daa1a",
   "metadata": {},
   "outputs": [],
   "source": [
    "new_df.head()"
   ]
  },
  {
   "cell_type": "code",
   "execution_count": null,
   "id": "81f8a7d9",
   "metadata": {},
   "outputs": [],
   "source": [
    "import nltk"
   ]
  },
  {
   "cell_type": "code",
   "execution_count": null,
   "id": "61a671dc",
   "metadata": {},
   "outputs": [],
   "source": [
    "from nltk.stem.porter import PorterStemmer\n",
    "ps = PorterStemmer()"
   ]
  },
  {
   "cell_type": "code",
   "execution_count": null,
   "id": "be252aaa",
   "metadata": {},
   "outputs": [],
   "source": [
    "def stem(text):\n",
    "    y = []\n",
    "    for i in text.split():\n",
    "        y.append(ps.stem(i))\n",
    "    return \" \".join(y)    "
   ]
  },
  {
   "cell_type": "code",
   "execution_count": null,
   "id": "d9a5989d",
   "metadata": {},
   "outputs": [],
   "source": [
    "new_df['tags'] = new_df['tags'].apply(stem)"
   ]
  },
  {
   "cell_type": "code",
   "execution_count": null,
   "id": "e89c2d1e",
   "metadata": {},
   "outputs": [],
   "source": [
    "from sklearn.feature_extraction.text import CountVectorizer\n",
    "cv = CountVectorizer(max_features=5000, stop_words='english')"
   ]
  },
  {
   "cell_type": "code",
   "execution_count": null,
   "id": "acad8292",
   "metadata": {},
   "outputs": [],
   "source": [
    "vectors = cv.fit_transform(new_df['tags']).toarray()"
   ]
  },
  {
   "cell_type": "code",
   "execution_count": null,
   "id": "54fd2511",
   "metadata": {},
   "outputs": [],
   "source": [
    "cv.get_feature_names_out()"
   ]
  },
  {
   "cell_type": "code",
   "execution_count": null,
   "id": "ce48f809",
   "metadata": {},
   "outputs": [],
   "source": [
    "from sklearn.metrics.pairwise import cosine_similarity\n",
    "similarity = cosine_similarity(vectors)"
   ]
  },
  {
   "cell_type": "code",
   "execution_count": null,
   "id": "3ade34c2",
   "metadata": {},
   "outputs": [],
   "source": [
    "similarity[1]"
   ]
  },
  {
   "cell_type": "code",
   "execution_count": 187,
   "id": "8efa2c63",
   "metadata": {},
   "outputs": [],
   "source": [
    "def recommend(movie):\n",
    "    movie_index = new_df[new_df['title'] == movie].index[0]\n",
    "    distances = similarity[movie_index]\n",
    "    movies_list = sorted(list(enumerate(distances)), reverse=True, key=lambda x:x[1])[1:6]\n",
    "\n",
    "    for i in movies_list:\n",
    "        print(new_df.iloc[i[0]].title)"
   ]
  },
  {
   "cell_type": "code",
   "execution_count": 193,
   "id": "dacaa8f9",
   "metadata": {},
   "outputs": [
    {
     "name": "stdout",
     "output_type": "stream",
     "text": [
      "Iron Man 3\n",
      "Iron Man 2\n",
      "Avengers: Age of Ultron\n",
      "The Helix... Loaded\n",
      "Teenage Mutant Ninja Turtles II: The Secret of the Ooze\n"
     ]
    }
   ],
   "source": [
    "recommend('Iron Man')"
   ]
  },
  {
   "cell_type": "code",
   "execution_count": 184,
   "id": "c650fabd",
   "metadata": {},
   "outputs": [
    {
     "data": {
      "text/plain": [
       "'The Book of Life'"
      ]
     },
     "execution_count": 184,
     "metadata": {},
     "output_type": "execute_result"
    }
   ],
   "source": [
    "new_df.iloc[942].title"
   ]
  },
  {
   "cell_type": "code",
   "execution_count": 195,
   "id": "81cba80a",
   "metadata": {},
   "outputs": [],
   "source": [
    "import pickle"
   ]
  },
  {
   "cell_type": "code",
   "execution_count": 196,
   "id": "d73cd817",
   "metadata": {},
   "outputs": [],
   "source": [
    "pickle.dump(new_df, open('movies.pkl','wb'))"
   ]
  },
  {
   "cell_type": "code",
   "execution_count": 197,
   "id": "da2b5a53",
   "metadata": {},
   "outputs": [],
   "source": [
    "pickle.dump(similarity,open('similarity.pkl','wb'))"
   ]
  }
 ],
 "metadata": {
  "kernelspec": {
   "display_name": "base",
   "language": "python",
   "name": "python3"
  },
  "language_info": {
   "codemirror_mode": {
    "name": "ipython",
    "version": 3
   },
   "file_extension": ".py",
   "mimetype": "text/x-python",
   "name": "python",
   "nbconvert_exporter": "python",
   "pygments_lexer": "ipython3",
   "version": "3.12.7"
  }
 },
 "nbformat": 4,
 "nbformat_minor": 5
}
